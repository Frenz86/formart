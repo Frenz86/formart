{
 "cells": [
  {
   "attachments": {},
   "cell_type": "markdown",
   "metadata": {},
   "source": [
    "## Chiamate GET-POST"
   ]
  },
  {
   "cell_type": "code",
   "execution_count": 3,
   "metadata": {},
   "outputs": [],
   "source": [
    "url = \"http://localhost:8000/sum\"\n",
    "\n",
    "data = {\n",
    "        \"num1\": 5,\n",
    "        \"num2\": 6,\n",
    "        }"
   ]
  },
  {
   "cell_type": "code",
   "execution_count": 4,
   "metadata": {},
   "outputs": [
    {
     "name": "stdout",
     "output_type": "stream",
     "text": [
      "{'result': 11.0}\n",
      "\"http://localhost:8000/sum?num1=5&num2=6\"\n"
     ]
    }
   ],
   "source": [
    "## GET\n",
    "\n",
    "# url = \"http://localhost:8000/sum\"\n",
    "\n",
    "# data = {\n",
    "#         \"numero1\": 5,\n",
    "#         \"numero2\": 3,\n",
    "#         }\n",
    "\n",
    "import requests\n",
    "\n",
    "data_keys = data.keys()\n",
    "data_values = data.values()\n",
    "url2 =\"&\".join(\"{0}={1}\".format(x,y) for x,y in zip(data_keys,data_values))\n",
    "link = url+\"?\"+url2\n",
    "\n",
    "response = requests.get(link)\n",
    "response = response.json()\n",
    "print(response)\n",
    "print('\"{}\"'.format(link))"
   ]
  },
  {
   "cell_type": "code",
   "execution_count": 9,
   "metadata": {},
   "outputs": [
    {
     "name": "stdout",
     "output_type": "stream",
     "text": [
      "<Response [200]>\n",
      "{\"result\":8.0}\n"
     ]
    }
   ],
   "source": [
    "## POST\n",
    "\n",
    "import requests\n",
    "import json\n",
    "\n",
    "# url = \"http://localhost:8000/sum\"\n",
    "\n",
    "\n",
    "data = {\n",
    "        \"numero1\": 5,\n",
    "        \"numero2\": 3,\n",
    "        }\n",
    "\n",
    "data_keys = data.keys()\n",
    "response =requests.post(url,\n",
    "                        headers={\"Content-Type\": \"application/json\"},\n",
    "                        data = json.dumps({\"num1\":data['numero1'],\n",
    "                                           \"num2\":data['numero2']})\n",
    "                        )\n",
    "result =response.json()\n",
    "print(response)\n",
    "print(response.text)"
   ]
  },
  {
   "cell_type": "code",
   "execution_count": null,
   "metadata": {},
   "outputs": [],
   "source": []
  }
 ],
 "metadata": {
  "kernelspec": {
   "display_name": "Python 3",
   "language": "python",
   "name": "python3"
  },
  "language_info": {
   "codemirror_mode": {
    "name": "ipython",
    "version": 3
   },
   "file_extension": ".py",
   "mimetype": "text/x-python",
   "name": "python",
   "nbconvert_exporter": "python",
   "pygments_lexer": "ipython3",
   "version": "3.10.9"
  },
  "orig_nbformat": 4
 },
 "nbformat": 4,
 "nbformat_minor": 2
}
