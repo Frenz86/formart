{
 "cells": [
  {
   "attachments": {},
   "cell_type": "markdown",
   "metadata": {},
   "source": [
    "## Pydantinc\n",
    "\n",
    "Pydantic è una libreria Python che fornisce un modo semplice ed elegante per definire e convalidare strutture dati, come ad esempio i modelli di dati. È progettata per semplificare la validazione e la serializzazione dei dati, rendendo più facile la gestione delle operazioni di input e output.\n",
    "\n",
    "Viene utilizzato per:\n",
    "- Convalida dei dati: Pydantic consente di definire uno schema per i dati e di convalidare automaticamente i valori in base a questo schema. Puoi specificare tipi di dati, restrizioni, valori predefiniti e molte altre regole di convalida. Questo aiuta a garantire che i dati siano corretti e coerenti prima di essere utilizzati.\n",
    "\n",
    "- Serializzazione e deserializzazione: Pydantic semplifica la conversione dei dati da e verso diversi formati, come JSON, YAML e altri. Puoi facilmente convertire oggetti Python in rappresentazioni serializzate e viceversa, facilitando la comunicazione con sistemi esterni o il salvataggio dei dati su disco.\n",
    "\n",
    "- Generazione automatica di documentazione: Pydantic può generare automaticamente documentazione interattiva per i tuoi modelli di dati, inclusi i tipi di dati supportati, le restrizioni e altre informazioni utili. Questo rende più facile comprendere come utilizzare e interagire con i tuoi dati.\n",
    "\n",
    "- Validazione di API: Pydantic può essere utilizzato per convalidare i dati di input e di output nelle API web. Puoi definire i modelli di dati che rappresentano le richieste e le risposte attese e utilizzare Pydantic per convalidare e trasformare automaticamente i dati ricevuti o inviati dall'API.\n",
    "\n",
    "- Type hinting: Pydantic sfrutta le annotazioni dei tipi di Python (type hinting) per definire i modelli di dati. Ciò offre il vantaggio di avere un'indicazione statica dei tipi di dati, aiutando gli strumenti di analisi del codice a individuare errori e a fornire suggerimenti più accurati.\n",
    " \n",
    "Pydantic è una libreria che semplifica la gestione e la convalida dei dati in Python, fornendo strumenti per definire, convalidare, serializzare e deserializzare strutture dati in modo efficace e intuitivo."
   ]
  },
  {
   "cell_type": "code",
   "execution_count": 4,
   "metadata": {},
   "outputs": [
    {
     "name": "stdout",
     "output_type": "stream",
     "text": [
      "Alice\n",
      "30\n"
     ]
    }
   ],
   "source": [
    "from pydantic import BaseModel\n",
    "\n",
    "class Person(BaseModel):\n",
    "    name: str\n",
    "    age: int\n",
    "\n",
    "# Creazione di un'istanza del modello di dati\n",
    "person_data = {\n",
    "                'name': 'Alice',\n",
    "                'age': 30\n",
    "                }\n",
    "\n",
    "#Il doppio asterisco ** nell'esempio viene utilizzato per passare gli elementi di un dizionario come argomenti denominati durante la creazione di un'istanza del modello Person.\n",
    "person = Person(**person_data)\n",
    "\n",
    "# Accesso ai valori convalidati\n",
    "print(person.name)  # Output: Alice\n",
    "print(person.age)   # Output: 30"
   ]
  },
  {
   "cell_type": "code",
   "execution_count": 5,
   "metadata": {},
   "outputs": [
    {
     "ename": "ValidationError",
     "evalue": "1 validation error for Person\nage\n  value is not a valid integer (type=type_error.integer)",
     "output_type": "error",
     "traceback": [
      "\u001b[1;31m---------------------------------------------------------------------------\u001b[0m",
      "\u001b[1;31mValidationError\u001b[0m                           Traceback (most recent call last)",
      "Cell \u001b[1;32mIn[5], line 7\u001b[0m\n\u001b[0;32m      1\u001b[0m \u001b[39m# Tentativo di creare un'istanza con dati non validi\u001b[39;00m\n\u001b[0;32m      2\u001b[0m invalid_person_data \u001b[39m=\u001b[39m {\n\u001b[0;32m      3\u001b[0m                         \u001b[39m'\u001b[39m\u001b[39mname\u001b[39m\u001b[39m'\u001b[39m: \u001b[39m'\u001b[39m\u001b[39mBob\u001b[39m\u001b[39m'\u001b[39m,\n\u001b[0;32m      4\u001b[0m                         \u001b[39m'\u001b[39m\u001b[39mage\u001b[39m\u001b[39m'\u001b[39m: \u001b[39m'\u001b[39m\u001b[39mtwenty\u001b[39m\u001b[39m'\u001b[39m\n\u001b[0;32m      5\u001b[0m                         }\n\u001b[1;32m----> 7\u001b[0m invalid_person \u001b[39m=\u001b[39m Person(\u001b[39m*\u001b[39m\u001b[39m*\u001b[39minvalid_person_data)  \u001b[39m# Genera un'eccezione di validazione\u001b[39;00m\n",
      "File \u001b[1;32mc:\\Users\\danie\\AppData\\Local\\Programs\\Python\\Python310\\lib\\site-packages\\pydantic\\main.py:341\u001b[0m, in \u001b[0;36mpydantic.main.BaseModel.__init__\u001b[1;34m()\u001b[0m\n",
      "\u001b[1;31mValidationError\u001b[0m: 1 validation error for Person\nage\n  value is not a valid integer (type=type_error.integer)"
     ]
    }
   ],
   "source": [
    "# Tentativo di creare un'istanza con dati non validi\n",
    "invalid_person_data = {\n",
    "                        'name': 'Bob',\n",
    "                        'age': 'twenty'\n",
    "                        }\n",
    "\n",
    "invalid_person = Person(**invalid_person_data)  # Genera un'eccezione di validazione"
   ]
  },
  {
   "attachments": {},
   "cell_type": "markdown",
   "metadata": {},
   "source": [
    "## Cosa sono i decoratori?\n",
    "\n",
    "I decoratori in Python sono una caratteristica potente e flessibile del linguaggio che consente di modificare o estendere il comportamento delle funzioni o delle classi. I decoratori sono funzioni che prendono come argomento un'altra funzione o classe e restituiscono una nuova funzione o classe con funzionalità aggiuntive.\n",
    "\n",
    "Per utilizzare un decoratore, viene utilizzata la sintassi @nome_decoratore sopra la definizione di una funzione o di una classe. Ciò indica che la funzione o la classe successiva deve essere decorata dal decoratore specificato."
   ]
  },
  {
   "cell_type": "code",
   "execution_count": 7,
   "metadata": {},
   "outputs": [
    {
     "name": "stdout",
     "output_type": "stream",
     "text": [
      "16\n"
     ]
    }
   ],
   "source": [
    "def double_result(func):\n",
    "    def wrapper(*args, **kwargs):\n",
    "        result = func(*args, **kwargs)\n",
    "        return result * 2\n",
    "    return wrapper\n",
    "\n",
    "@double_result\n",
    "def add(a, b):\n",
    "    return a + b\n",
    "\n",
    "result = add(3, 5)\n",
    "print(result)  # Output: 16"
   ]
  },
  {
   "attachments": {},
   "cell_type": "markdown",
   "metadata": {},
   "source": [
    "In questo esempio, abbiamo definito un decoratore chiamato double_result, che prende una funzione come argomento e restituisce una funzione wrapper. La funzione wrapper avvolge l'esecuzione della funzione originale add e raddoppia il risultato ottenuto.\n",
    "\n",
    "Successivamente, abbiamo applicato il decoratore alla funzione add utilizzando la sintassi @double_result sopra la sua definizione. Ciò significa che la funzione add verrà decorata utilizzando il decoratore double_result.\n",
    "\n",
    "Quando chiamiamo la funzione add(3, 5), il decoratore entra in azione. La funzione wrapper viene chiamata al posto della funzione originale, quindi esegue la funzione originale add(3, 5), ottiene il risultato 8 e lo raddoppia, restituendo il valore 16.\n",
    "\n",
    "In questo modo, il decoratore double_result ha esteso il comportamento della funzione add, raddoppiando il suo risultato senza dover modificare direttamente la definizione della funzione add."
   ]
  },
  {
   "attachments": {},
   "cell_type": "markdown",
   "metadata": {},
   "source": [
    "## FastAPI\n",
    "Questo è un esempio di un'applicazione web scritta utilizzando il framework FastAPI in Python. L'applicazione espone un endpoint HTTP GET che accetta un parametro \"number\" intero nell'URL. Quando viene effettuata una richiesta a quell'endpoint con un numero, l'applicazione raddoppia il numero ricevuto e restituisce un oggetto JSON contenente il risultato.\n",
    "\n",
    "Utilizzando il decoratore @app.get(\"/double/{number}\"), viene definito un endpoint per la gestione delle richieste HTTP GET. L'URL dell'endpoint è \"/double/{number}\", dove \"{number}\" rappresenta il parametro intero che viene passato nell'URL.\n",
    "\n",
    "La funzione double_result viene definita come un'operazione sincrona di default (not async). Prende come argomento number, che è il valore intero passato nell'URL.\n",
    "\n",
    "All'interno della funzione double_result, il numero viene raddoppiato assegnando res = number * 2."
   ]
  },
  {
   "cell_type": "code",
   "execution_count": 2,
   "metadata": {},
   "outputs": [
    {
     "name": "stderr",
     "output_type": "stream",
     "text": [
      "INFO:     Started server process [19772]\n",
      "INFO:     Waiting for application startup.\n",
      "INFO:     Application startup complete.\n",
      "INFO:     Uvicorn running on http://127.0.0.1:8000 (Press CTRL+C to quit)\n"
     ]
    },
    {
     "name": "stdout",
     "output_type": "stream",
     "text": [
      "INFO:     127.0.0.1:4620 - \"GET / HTTP/1.1\" 404 Not Found\n"
     ]
    },
    {
     "name": "stderr",
     "output_type": "stream",
     "text": [
      "INFO:     Shutting down\n",
      "INFO:     Waiting for application shutdown.\n",
      "INFO:     Application shutdown complete.\n",
      "INFO:     Finished server process [19772]\n"
     ]
    }
   ],
   "source": [
    "from fastapi import FastAPI\n",
    "import uvicorn\n",
    "\n",
    "app = FastAPI()\n",
    "\n",
    "@app.get(\"/double/{number}\")\n",
    "def double_result(number: int):\n",
    "    res = number * 2\n",
    "    return {\"result\": res}\n",
    "\n",
    "if __name__ == \"__main__\":\n",
    "    config = uvicorn.Config(app)\n",
    "    server = uvicorn.Server(config)\n",
    "    await server.serve()"
   ]
  },
  {
   "cell_type": "code",
   "execution_count": null,
   "metadata": {},
   "outputs": [],
   "source": []
  }
 ],
 "metadata": {
  "kernelspec": {
   "display_name": "Python 3",
   "language": "python",
   "name": "python3"
  },
  "language_info": {
   "codemirror_mode": {
    "name": "ipython",
    "version": 3
   },
   "file_extension": ".py",
   "mimetype": "text/x-python",
   "name": "python",
   "nbconvert_exporter": "python",
   "pygments_lexer": "ipython3",
   "version": "3.10.9"
  },
  "orig_nbformat": 4
 },
 "nbformat": 4,
 "nbformat_minor": 2
}
