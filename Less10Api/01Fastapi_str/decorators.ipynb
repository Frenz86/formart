{
 "cells": [
  {
   "attachments": {},
   "cell_type": "markdown",
   "metadata": {},
   "source": [
    "## Cosa sono i decoratori?\n",
    "Un decoratore è una funzione che prende come parametro un’altra funzione, aggiunge delle funzionalità e restituisce un’altra funzione senza alterare il codice sorgente della funzione passata come parametro."
   ]
  },
  {
   "cell_type": "code",
   "execution_count": 10,
   "metadata": {},
   "outputs": [
    {
     "name": "stdout",
     "output_type": "stream",
     "text": [
      "esegui_questo eseguito in 1.5038483142852783 secondi \n",
      "esegui_quello eseguito in 0.5007126331329346 secondi \n",
      "Done\n"
     ]
    }
   ],
   "source": [
    "import time\n",
    "\n",
    "def app(func):\n",
    "    def wrapper():\n",
    "        t1= time.time()\n",
    "        func()\n",
    "        t2= time.time()-t1\n",
    "        print(f\"\"\"{func.__name__} eseguito in {t2} secondi \"\"\")\n",
    "    return wrapper\n",
    "\n",
    "@app\n",
    "def esegui_questo():\n",
    "    ###\n",
    "    time.sleep(1.5)\n",
    "\n",
    "@app\n",
    "def esegui_quello():\n",
    "    ####\n",
    "    time.sleep(.5)\n",
    "\n",
    "\n",
    "esegui_questo()\n",
    "esegui_quello()\n",
    "print('Done')"
   ]
  },
  {
   "attachments": {},
   "cell_type": "markdown",
   "metadata": {},
   "source": [
    " Oltre ad estendere possiamo anche modificare il comportamento delle nostre funzioni. Facciamo ora un esempio in cui vogliamo un decoratore @caps_lock, ovvero un decoratore che trasformi l’output delle nostre funzioni in output a lettere maiuscole:"
   ]
  },
  {
   "cell_type": "code",
   "execution_count": 12,
   "metadata": {},
   "outputs": [
    {
     "data": {
      "text/plain": [
       "'HELLO WORLD!'"
      ]
     },
     "execution_count": 12,
     "metadata": {},
     "output_type": "execute_result"
    }
   ],
   "source": [
    "def caps_lock(funzione_parametro):\n",
    "    #wraps(funzione_parametro)\n",
    "    def wrapper():\n",
    "        \"\"\" wrapper significa 'incarto, confezione' \"\"\"\n",
    "        return funzione_parametro().upper()\n",
    "    return wrapper\n",
    "\n",
    "\n",
    "@caps_lock\n",
    "def mia_funzione():\n",
    "    return \"hello world!\"\n",
    "\n",
    "mia_funzione()"
   ]
  },
  {
   "cell_type": "code",
   "execution_count": null,
   "metadata": {},
   "outputs": [],
   "source": []
  }
 ],
 "metadata": {
  "kernelspec": {
   "display_name": "Python 3",
   "language": "python",
   "name": "python3"
  },
  "language_info": {
   "codemirror_mode": {
    "name": "ipython",
    "version": 3
   },
   "file_extension": ".py",
   "mimetype": "text/x-python",
   "name": "python",
   "nbconvert_exporter": "python",
   "pygments_lexer": "ipython3",
   "version": "3.10.9"
  },
  "orig_nbformat": 4
 },
 "nbformat": 4,
 "nbformat_minor": 2
}
