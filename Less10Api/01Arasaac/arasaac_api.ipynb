{
 "cells": [
  {
   "attachments": {},
   "cell_type": "markdown",
   "metadata": {},
   "source": [
    "## ARANSAAC"
   ]
  },
  {
   "attachments": {},
   "cell_type": "markdown",
   "metadata": {},
   "source": [
    "Il progetto ARASAAC, Centro Aragonese di Comunicazione Aumentativa e Alternativa nato in Spagna, è un riferimento online che offre risorse grafiche e materiali adattati con una licenza Creative Commons (BY - NC - SA) per facilitare la comunicazione e l'accessibilità cognitiva a tutte le persone che per fattori diversi: autismo, disabilità intellettuale, mancanza di linguaggio, anziani, ecc., riscontrano problemi in queste aree. Il progetto è finanziato dal Dipartimento per la Cultura, lo Sport e l'Istruzione del Governo di Aragona (Spagna) ed è un progetto che cerca collaboratori per testare i suoi metodi."
   ]
  },
  {
   "attachments": {},
   "cell_type": "markdown",
   "metadata": {},
   "source": [
    "https://www.giovazoom.emr.it/it/partecipazione/notizie/arasaac-il-progetto-per-comunicare-oltre-le-barriere"
   ]
  },
  {
   "attachments": {},
   "cell_type": "markdown",
   "metadata": {},
   "source": [
    "https://arasaac.org/developers/api"
   ]
  },
  {
   "cell_type": "code",
   "execution_count": 1,
   "metadata": {},
   "outputs": [
    {
     "data": {
      "text/html": [
       "<div>\n",
       "<style scoped>\n",
       "    .dataframe tbody tr th:only-of-type {\n",
       "        vertical-align: middle;\n",
       "    }\n",
       "\n",
       "    .dataframe tbody tr th {\n",
       "        vertical-align: top;\n",
       "    }\n",
       "\n",
       "    .dataframe thead th {\n",
       "        text-align: right;\n",
       "    }\n",
       "</style>\n",
       "<table border=\"1\" class=\"dataframe\">\n",
       "  <thead>\n",
       "    <tr style=\"text-align: right;\">\n",
       "      <th></th>\n",
       "      <th>ID_img</th>\n",
       "      <th>n</th>\n",
       "    </tr>\n",
       "  </thead>\n",
       "  <tbody>\n",
       "    <tr>\n",
       "      <th>0</th>\n",
       "      <td>0__id</td>\n",
       "      <td>2247</td>\n",
       "    </tr>\n",
       "    <tr>\n",
       "      <th>1</th>\n",
       "      <td>1__id</td>\n",
       "      <td>2248</td>\n",
       "    </tr>\n",
       "    <tr>\n",
       "      <th>2</th>\n",
       "      <td>2__id</td>\n",
       "      <td>2249</td>\n",
       "    </tr>\n",
       "    <tr>\n",
       "      <th>3</th>\n",
       "      <td>3__id</td>\n",
       "      <td>2250</td>\n",
       "    </tr>\n",
       "    <tr>\n",
       "      <th>4</th>\n",
       "      <td>4__id</td>\n",
       "      <td>2251</td>\n",
       "    </tr>\n",
       "    <tr>\n",
       "      <th>...</th>\n",
       "      <td>...</td>\n",
       "      <td>...</td>\n",
       "    </tr>\n",
       "    <tr>\n",
       "      <th>12589</th>\n",
       "      <td>12589__id</td>\n",
       "      <td>38548</td>\n",
       "    </tr>\n",
       "    <tr>\n",
       "      <th>12590</th>\n",
       "      <td>12590__id</td>\n",
       "      <td>38549</td>\n",
       "    </tr>\n",
       "    <tr>\n",
       "      <th>12591</th>\n",
       "      <td>12591__id</td>\n",
       "      <td>38550</td>\n",
       "    </tr>\n",
       "    <tr>\n",
       "      <th>12592</th>\n",
       "      <td>12592__id</td>\n",
       "      <td>38552</td>\n",
       "    </tr>\n",
       "    <tr>\n",
       "      <th>12593</th>\n",
       "      <td>12593__id</td>\n",
       "      <td>38554</td>\n",
       "    </tr>\n",
       "  </tbody>\n",
       "</table>\n",
       "<p>12594 rows × 2 columns</p>\n",
       "</div>"
      ],
      "text/plain": [
       "          ID_img      n\n",
       "0          0__id   2247\n",
       "1          1__id   2248\n",
       "2          2__id   2249\n",
       "3          3__id   2250\n",
       "4          4__id   2251\n",
       "...          ...    ...\n",
       "12589  12589__id  38548\n",
       "12590  12590__id  38549\n",
       "12591  12591__id  38550\n",
       "12592  12592__id  38552\n",
       "12593  12593__id  38554\n",
       "\n",
       "[12594 rows x 2 columns]"
      ]
     },
     "execution_count": 1,
     "metadata": {},
     "output_type": "execute_result"
    }
   ],
   "source": [
    "import pandas as pd\n",
    "\n",
    "df = pd.read_excel('id_arasaac.xlsx')\n",
    "df"
   ]
  },
  {
   "cell_type": "code",
   "execution_count": 2,
   "metadata": {},
   "outputs": [
    {
     "data": {
      "text/plain": [
       "[2247, 2248, 2249]"
      ]
     },
     "execution_count": 2,
     "metadata": {},
     "output_type": "execute_result"
    }
   ],
   "source": [
    "lista = df['n'].to_list()\n",
    "lista = lista[:3] # limito solo i primi 3 elementi\n",
    "lista"
   ]
  },
  {
   "attachments": {},
   "cell_type": "markdown",
   "metadata": {},
   "source": [
    "Shutil module in Python provides many functions of high-level operations on files and collections of files. It comes under Python’s standard utility modules. This module helps in automating process of copying and removal of files and directories.\n",
    "shutil.copy() method in Python is used to copy the content of source file to destination file or directory. It also preserves the file’s permission mode but other metadata of the file like the file’s creation and modification times is not preserved."
   ]
  },
  {
   "cell_type": "code",
   "execution_count": 11,
   "metadata": {},
   "outputs": [],
   "source": [
    "## img singola\n",
    "\n",
    "import shutil\n",
    "import requests\n",
    "\n",
    "i= 2248\n",
    "url = f'https://api.arasaac.org/api/pictograms/{i}?download=true'\n",
    "response = requests.get(url, stream=True)\n",
    "with open(f'img/img_{i}.png', 'wb') as out_file:\n",
    "    shutil.copyfileobj(response.raw, out_file)\n",
    "del response"
   ]
  },
  {
   "cell_type": "code",
   "execution_count": 7,
   "metadata": {},
   "outputs": [],
   "source": [
    "## liste di img\n",
    "\n",
    "# import shutil\n",
    "# import requests\n",
    "\n",
    "# for i in lista:\n",
    "#     url = f'https://api.arasaac.org/api/pictograms/{i}?download=true'\n",
    "#     response = requests.get(url, stream=True)\n",
    "#     with open(f'img/img_{i}.png', 'wb') as out_file:\n",
    "#         shutil.copyfileobj(response.raw, out_file)\n",
    "#     del response"
   ]
  }
 ],
 "metadata": {
  "kernelspec": {
   "display_name": "Python 3.8.4 64-bit",
   "language": "python",
   "name": "python3"
  },
  "language_info": {
   "codemirror_mode": {
    "name": "ipython",
    "version": 3
   },
   "file_extension": ".py",
   "mimetype": "text/x-python",
   "name": "python",
   "nbconvert_exporter": "python",
   "pygments_lexer": "ipython3",
   "version": "3.10.9"
  },
  "orig_nbformat": 4,
  "vscode": {
   "interpreter": {
    "hash": "8d19b764d49e1dcc271e9a882564bf910ed3916f9785cce1f7e4046018fe4dea"
   }
  }
 },
 "nbformat": 4,
 "nbformat_minor": 2
}
